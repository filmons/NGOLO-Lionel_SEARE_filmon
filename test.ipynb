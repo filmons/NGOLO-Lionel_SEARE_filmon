{
 "cells": [
  {
   "cell_type": "code",
   "execution_count": null,
   "metadata": {},
   "outputs": [],
   "source": [
    "import requests\n",
    "from fastapi import FastAPI, Query\n",
    "import pandas as pd\n",
    "from sklearn.model_selection import train_test_split\n",
    "from sklearn.preprocessing import StandardScaler\n",
    "from tensorflow.keras.models import Sequential\n",
    "from tensorflow.keras.layers import Dense\n",
    "from tensorflow.keras.models import load_model\n",
    "from pydantic import BaseModel\n",
    "import numpy as np\n",
    "from functions import get_answer_from_openai\n",
    "from typing import Optional\n",
    "from pydantic import BaseModel"
   ]
  },
  {
   "cell_type": "code",
   "execution_count": null,
   "metadata": {},
   "outputs": [],
   "source": [
    "df = pd.read_csv('data_forest_fires.csv')\n",
    "df.head()\n"
   ]
  },
  {
   "cell_type": "code",
   "execution_count": null,
   "metadata": {},
   "outputs": [],
   "source": [
    "df.describe()"
   ]
  },
  {
   "cell_type": "code",
   "execution_count": null,
   "metadata": {},
   "outputs": [],
   "source": [
    "response = requests.get(\"http://127.0.0.1:8000\")\n",
    "response.text"
   ]
  },
  {
   "cell_type": "code",
   "execution_count": null,
   "metadata": {},
   "outputs": [],
   "source": [
    "response = requests.get(\"http://127.0.0.1:8000/hello_you\", params={'name':'Test'})\n",
    "response.text"
   ]
  },
  {
   "cell_type": "code",
   "execution_count": null,
   "metadata": {},
   "outputs": [],
   "source": [
    "import requests\n",
    "\n",
    "data = {\n",
    "  \"month\": \"jan\",\n",
    "  \"day\": \"mon\",\n",
    "  \"FFMC\": 0,\n",
    "  \"DMC\": 0,\n",
    "  \"DC\": 0,\n",
    "  \"ISI\": 0,\n",
    "  \"temp\": 0,\n",
    "  \"RH\": 0,\n",
    "  \"wind\": 0,\n",
    "  \"rain\": 0,\n",
    "  \"X\": 0,\n",
    "  \"Y\": 0\n",
    "}\n",
    "\n",
    "requests.post(\"http://127.0.0.1:8000/predict\", \n",
    "              json=data).text"
   ]
  }
 ],
 "metadata": {
  "language_info": {
   "name": "python"
  }
 },
 "nbformat": 4,
 "nbformat_minor": 2
}
